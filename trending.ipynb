{
 "cells": [
  {
   "cell_type": "code",
   "execution_count": 4,
   "metadata": {
    "collapsed": false
   },
   "outputs": [
    {
     "name": "stderr",
     "output_type": "stream",
     "text": [
      "Loading required package: twitteR\n",
      "Loading required package: XML\n",
      "Loading required package: ggplot2\n",
      "Loading required package: bitops\n",
      "\n",
      "Attaching package: 'plyr'\n",
      "\n",
      "The following object is masked from 'package:twitteR':\n",
      "\n",
      "    id\n",
      "\n",
      "Installing package into 'C:/Users/adity/OneDrive/Documents/R/win-library/3.3'\n",
      "(as 'lib' is unspecified)\n"
     ]
    },
    {
     "name": "stdout",
     "output_type": "stream",
     "text": [
      "package 'rtf' successfully unpacked and MD5 sums checked\n",
      "\n",
      "The downloaded binary packages are in\n",
      "\tC:\\Users\\adity\\AppData\\Local\\Temp\\RtmpiczqVf\\downloaded_packages\n"
     ]
    },
    {
     "name": "stderr",
     "output_type": "stream",
     "text": [
      "Warning message:\n",
      "\"package 'rtf' was built under R version 3.3.3\""
     ]
    },
    {
     "name": "stdout",
     "output_type": "stream",
     "text": [
      "[1] \"Using direct authentication\"\n"
     ]
    }
   ],
   "source": [
    "#packages and oAuth\n",
    "require(twitteR)\n",
    "#install.packages(\"dismo\",repos='http://cran.us.r-project.org')\n",
    "#require(RCurl)\n",
    "require(XML)\n",
    "library(ggmap)\n",
    "library(RCurl)\n",
    "library(RJSONIO)\n",
    "library(plyr)\n",
    "install.packages(c(\"rtf\"), repos = \"http://cran.r-project.org\")\n",
    "library('rtf')\n",
    "\n",
    "con_k<- 'I0z7AKEkEgo2g1DCsRrG6UR9t'\n",
    "con_s<- 'KUHwwrOxbGU74MlayHJyUdttCWqlbTgWLx9XMxuGowhMYZb8Se'\n",
    "acc_tok<- '399497071-qEpvCQC3OxJxflExP8NNGfmqYcLxvrfBFNPHTw4R'\n",
    "acc_s<-'lHSwVVvytEO87w4i2QsaOjiAkKHudRPRJ8tZ84V3Gywen'\n",
    "\n",
    "setup_twitter_oauth(con_k,con_s,acc_tok,acc_s)"
   ]
  },
  {
   "cell_type": "code",
   "execution_count": null,
   "metadata": {
    "collapsed": false,
    "scrolled": true
   },
   "outputs": [],
   "source": [
    "#user input\n",
    "search <- '#nyse'\n",
    "tweet_count <- 10000\n",
    "\n"
   ]
  },
  {
   "cell_type": "code",
   "execution_count": null,
   "metadata": {
    "collapsed": false
   },
   "outputs": [],
   "source": [
    "tweets <- searchTwitter(search, n=tweet_count, since='2017-02-01', lang=\"en\")\n",
    "stripped_tweets <- strip_retweets(tweets, strip_manual=TRUE, strip_mt=TRUE)\n",
    "stf <- twListToDF(stripped_tweets)\n",
    "tweets.final<-sapply(stripped_tweets,function(x) x$getText())\n",
    "    \n",
    "write.table(cbind(tweets.final), file=\"nasdaq.csv\",append=TRUE, row.names=FALSE, col.names=FALSE, na=\"\")\n",
    "\n",
    "    "
   ]
  },
  {
   "cell_type": "code",
   "execution_count": null,
   "metadata": {
    "collapsed": false,
    "scrolled": true
   },
   "outputs": [],
   "source": [
    "# run Python Script cleancsv.py"
   ]
  },
  {
   "cell_type": "code",
   "execution_count": 2,
   "metadata": {
    "collapsed": false,
    "scrolled": true
   },
   "outputs": [
    {
     "name": "stderr",
     "output_type": "stream",
     "text": [
      "Installing package into 'C:/Users/adity/OneDrive/Documents/R/win-library/3.3'\n",
      "(as 'lib' is unspecified)\n"
     ]
    },
    {
     "name": "stdout",
     "output_type": "stream",
     "text": [
      "package 'wordcloud' successfully unpacked and MD5 sums checked\n"
     ]
    },
    {
     "name": "stderr",
     "output_type": "stream",
     "text": [
      "Warning message:\n",
      "\"cannot remove prior installation of package 'wordcloud'\""
     ]
    },
    {
     "name": "stdout",
     "output_type": "stream",
     "text": [
      "\n",
      "The downloaded binary packages are in\n",
      "\tC:\\Users\\adity\\AppData\\Local\\Temp\\RtmpiczqVf\\downloaded_packages\n"
     ]
    },
    {
     "name": "stderr",
     "output_type": "stream",
     "text": [
      "Installing package into 'C:/Users/adity/OneDrive/Documents/R/win-library/3.3'\n",
      "(as 'lib' is unspecified)\n"
     ]
    },
    {
     "name": "stdout",
     "output_type": "stream",
     "text": [
      "package 'tm' successfully unpacked and MD5 sums checked\n"
     ]
    },
    {
     "name": "stderr",
     "output_type": "stream",
     "text": [
      "Warning message:\n",
      "\"cannot remove prior installation of package 'tm'\""
     ]
    },
    {
     "name": "stdout",
     "output_type": "stream",
     "text": [
      "\n",
      "The downloaded binary packages are in\n",
      "\tC:\\Users\\adity\\AppData\\Local\\Temp\\RtmpiczqVf\\downloaded_packages\n"
     ]
    },
    {
     "name": "stderr",
     "output_type": "stream",
     "text": [
      "Loading required package: tm\n",
      "Warning message in library(package, lib.loc = lib.loc, character.only = TRUE, logical.return = TRUE, :\n",
      "\"there is no package called 'tm'\"Loading required package: wordcloud\n",
      "Warning message in library(package, lib.loc = lib.loc, character.only = TRUE, logical.return = TRUE, :\n",
      "\"there is no package called 'wordcloud'\""
     ]
    }
   ],
   "source": [
    "install.packages(\"wordcloud\", repos = \"http://cran.r-project.org\")\n",
    "install.packages(\"tm\", repos = \"http://cran.r-project.org\")\n",
    "require(\"tm\")\n",
    "require('wordcloud')\n",
    "md <- read.csv(file=\"op1.csv\" )\n",
    "#Bit of Excel cleaning up"
   ]
  },
  {
   "cell_type": "code",
   "execution_count": 5,
   "metadata": {
    "collapsed": false,
    "scrolled": true
   },
   "outputs": [
    {
     "data": {
      "text/html": [
       "<ol class=list-inline>\n",
       "\t<li>9583</li>\n",
       "\t<li>9584</li>\n",
       "\t<li>9585</li>\n",
       "\t<li>9586</li>\n",
       "\t<li>9587</li>\n",
       "\t<li>9588</li>\n",
       "\t<li>9589</li>\n",
       "\t<li>9590</li>\n",
       "\t<li>9591</li>\n",
       "\t<li>9592</li>\n",
       "\t<li>9593</li>\n",
       "\t<li>9594</li>\n",
       "\t<li>9595</li>\n",
       "\t<li>9596</li>\n",
       "\t<li>9597</li>\n",
       "\t<li>9598</li>\n",
       "\t<li>9604</li>\n",
       "\t<li>9605</li>\n",
       "\t<li>9606</li>\n",
       "\t<li>10495</li>\n",
       "\t<li>10625</li>\n",
       "</ol>\n"
      ],
      "text/latex": [
       "\\begin{enumerate*}\n",
       "\\item 9583\n",
       "\\item 9584\n",
       "\\item 9585\n",
       "\\item 9586\n",
       "\\item 9587\n",
       "\\item 9588\n",
       "\\item 9589\n",
       "\\item 9590\n",
       "\\item 9591\n",
       "\\item 9592\n",
       "\\item 9593\n",
       "\\item 9594\n",
       "\\item 9595\n",
       "\\item 9596\n",
       "\\item 9597\n",
       "\\item 9598\n",
       "\\item 9604\n",
       "\\item 9605\n",
       "\\item 9606\n",
       "\\item 10495\n",
       "\\item 10625\n",
       "\\end{enumerate*}\n"
      ],
      "text/markdown": [
       "1. 9583\n",
       "2. 9584\n",
       "3. 9585\n",
       "4. 9586\n",
       "5. 9587\n",
       "6. 9588\n",
       "7. 9589\n",
       "8. 9590\n",
       "9. 9591\n",
       "10. 9592\n",
       "11. 9593\n",
       "12. 9594\n",
       "13. 9595\n",
       "14. 9596\n",
       "15. 9597\n",
       "16. 9598\n",
       "17. 9604\n",
       "18. 9605\n",
       "19. 9606\n",
       "20. 10495\n",
       "21. 10625\n",
       "\n",
       "\n"
      ],
      "text/plain": [
       " [1]  9583  9584  9585  9586  9587  9588  9589  9590  9591  9592  9593  9594\n",
       "[13]  9595  9596  9597  9598  9604  9605  9606 10495 10625"
      ]
     },
     "metadata": {},
     "output_type": "display_data"
    },
    {
     "ename": "ERROR",
     "evalue": "Error in eval(expr, envir, enclos): could not find function \"Corpus\"\n",
     "output_type": "error",
     "traceback": [
      "Error in eval(expr, envir, enclos): could not find function \"Corpus\"\nTraceback:\n"
     ]
    }
   ],
   "source": [
    "which.nonnum <- function(x) {\n",
    "   which(is.na(suppressWarnings(as.numeric(as.character(x)))))\n",
    "}\n",
    "which.nonnum(md[[2]])\n",
    "\n",
    "file <- readLines(\"op1.csv\")\n",
    "corp <- Corpus(VectorSource(file))\n",
    "dft <- TermDocumentMatrix(corp)\n",
    "row <- as.matrix(dft)\n",
    "q <- sort(rowSums(row),decreasing=TRUE)\n",
    "d <- data.frame(word = names(q),freq=q)\n",
    "set.seed(1234)\n",
    "wordcloud(words = d$word, freq = d$freq, min.freq = 1,\n",
    "          max.words=1000, random.order=FALSE, rot.per=0.35, \n",
    "          colors=brewer.pal(8, \"Dark2\"))"
   ]
  },
  {
   "cell_type": "code",
   "execution_count": null,
   "metadata": {
    "collapsed": false,
    "scrolled": true
   },
   "outputs": [],
   "source": []
  },
  {
   "cell_type": "code",
   "execution_count": null,
   "metadata": {
    "collapsed": false
   },
   "outputs": [],
   "source": []
  },
  {
   "cell_type": "code",
   "execution_count": null,
   "metadata": {
    "collapsed": false
   },
   "outputs": [],
   "source": []
  },
  {
   "cell_type": "code",
   "execution_count": null,
   "metadata": {
    "collapsed": false
   },
   "outputs": [],
   "source": []
  },
  {
   "cell_type": "code",
   "execution_count": null,
   "metadata": {
    "collapsed": false
   },
   "outputs": [],
   "source": []
  },
  {
   "cell_type": "code",
   "execution_count": null,
   "metadata": {
    "collapsed": false
   },
   "outputs": [],
   "source": []
  },
  {
   "cell_type": "code",
   "execution_count": null,
   "metadata": {
    "collapsed": false
   },
   "outputs": [],
   "source": []
  },
  {
   "cell_type": "code",
   "execution_count": null,
   "metadata": {
    "collapsed": false
   },
   "outputs": [],
   "source": [
    "# y<-sapply(md1[122],function(x) {c(str_extract_all(x, \"#\\\\S+\") , str_extract_all(x, \"@\\\\S+\"))})\n",
    "#     y"
   ]
  },
  {
   "cell_type": "code",
   "execution_count": null,
   "metadata": {
    "collapsed": false
   },
   "outputs": [],
   "source": []
  },
  {
   "cell_type": "code",
   "execution_count": null,
   "metadata": {
    "collapsed": false
   },
   "outputs": [],
   "source": []
  },
  {
   "cell_type": "code",
   "execution_count": null,
   "metadata": {
    "collapsed": false
   },
   "outputs": [],
   "source": [
    "#wordcloud(words = md[[1]], freq = md[[2]], min.freq = 1)"
   ]
  },
  {
   "cell_type": "code",
   "execution_count": null,
   "metadata": {
    "collapsed": false
   },
   "outputs": [],
   "source": []
  },
  {
   "cell_type": "code",
   "execution_count": null,
   "metadata": {
    "collapsed": false
   },
   "outputs": [],
   "source": []
  },
  {
   "cell_type": "code",
   "execution_count": null,
   "metadata": {
    "collapsed": false
   },
   "outputs": [],
   "source": []
  },
  {
   "cell_type": "code",
   "execution_count": null,
   "metadata": {
    "collapsed": true
   },
   "outputs": [],
   "source": []
  }
 ],
 "metadata": {
  "kernelspec": {
   "display_name": "R",
   "language": "R",
   "name": "ir"
  },
  "language_info": {
   "codemirror_mode": "r",
   "file_extension": ".r",
   "mimetype": "text/x-r-source",
   "name": "R",
   "pygments_lexer": "r",
   "version": "3.3.2"
  }
 },
 "nbformat": 4,
 "nbformat_minor": 2
}
